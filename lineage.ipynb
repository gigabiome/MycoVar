{
 "cells": [
  {
   "cell_type": "code",
   "execution_count": 1,
   "id": "96539106",
   "metadata": {},
   "outputs": [],
   "source": [
    "# import functions and other modules\n",
    "from functions import *\n",
    "import os\n",
    "import pandas as pd\n",
    "import warnings\n",
    "warnings.simplefilter(action='ignore', category=UserWarning)\n",
    "\n",
    "# Global variables for files\n",
    "INPUT = 'input/'\n",
    "OUTPUT = 'output/'\n",
    "BIN = 'bin/'"
   ]
  },
  {
   "cell_type": "markdown",
   "id": "2ae7ba91",
   "metadata": {},
   "source": [
    "# Resisto"
   ]
  },
  {
   "cell_type": "markdown",
   "id": "0b59f91f",
   "metadata": {},
   "source": [
    "This notebook is used to analyse SNP files and perform resistotyping generating several output files"
   ]
  },
  {
   "cell_type": "markdown",
   "id": "da2c24bb",
   "metadata": {},
   "source": [
    "1. Set global parameters for the run that will be used throughout the script\n",
    "2. Run the setup function to setup the input and output\n",
    "2. Generate output"
   ]
  },
  {
   "cell_type": "code",
   "execution_count": 2,
   "id": "da811afa",
   "metadata": {},
   "outputs": [],
   "source": [
    "# Parameters for snp calling (quality, forward/reverse balance, frequency, coverage)\n",
    "QUAL = 20\n",
    "FRB = 0\n",
    "FREQ = 5\n",
    "COV = 5"
   ]
  },
  {
   "cell_type": "code",
   "execution_count": 3,
   "id": "616322d4",
   "metadata": {},
   "outputs": [
    {
     "name": "stdout",
     "output_type": "stream",
     "text": [
      "✅ Input files successfully renamed and all files valid CSV files\n",
      "\n",
      "✅ Resisto output directories created\n",
      "\n",
      "✅ Resistance databases successfully loaded\n",
      "\n"
     ]
    }
   ],
   "source": [
    "# Setup input\n",
    "setupInput(INPUT)\n",
    "snp_files = os.listdir(INPUT+'snp/')\n",
    "cov_files = os.listdir(INPUT+'cov/')\n",
    "stat_files = os.listdir(INPUT+'stat/')\n",
    "\n",
    "# Setup output. Note: it will clear everything in the resisto output\n",
    "setupOutput(OUTPUT,'resisto')\n",
    "\n",
    "# Parse databases for resistotyping\n",
    "DR_WHO,DR_CTB,DR_GENES,dCTB,dWHO,dGene2Drug,dDrug2Gene,DR_WHO_promotors = setupResisto(BIN)"
   ]
  },
  {
   "cell_type": "code",
   "execution_count": 4,
   "id": "1d2ecc4a",
   "metadata": {
    "scrolled": true
   },
   "outputs": [
    {
     "name": "stdout",
     "output_type": "stream",
     "text": [
      "✅ Resistotyping complete and output files written\n",
      "\n"
     ]
    }
   ],
   "source": [
    "# perform resistotyping\n",
    "params = [QUAL,FRB,FREQ,COV,INPUT,OUTPUT,BIN]\n",
    "resisto_list = [DR_WHO,DR_CTB,DR_GENES,dCTB,dWHO,dGene2Drug,dDrug2Gene,DR_WHO_promotors]\n",
    "\n",
    "out = mainResistotyping(snp_files,params,resisto_list)"
   ]
  },
  {
   "cell_type": "code",
   "execution_count": null,
   "id": "f683f80d",
   "metadata": {},
   "outputs": [],
   "source": []
  },
  {
   "cell_type": "code",
   "execution_count": null,
   "id": "020a2772",
   "metadata": {},
   "outputs": [],
   "source": []
  },
  {
   "cell_type": "code",
   "execution_count": null,
   "id": "9e186491",
   "metadata": {},
   "outputs": [],
   "source": []
  },
  {
   "cell_type": "code",
   "execution_count": null,
   "id": "cd4d02e3",
   "metadata": {},
   "outputs": [],
   "source": []
  },
  {
   "cell_type": "code",
   "execution_count": null,
   "id": "6ee92937",
   "metadata": {},
   "outputs": [],
   "source": []
  },
  {
   "cell_type": "code",
   "execution_count": null,
   "id": "0f3abe1d",
   "metadata": {},
   "outputs": [],
   "source": []
  }
 ],
 "metadata": {
  "kernelspec": {
   "display_name": "Python 3 (ipykernel)",
   "language": "python",
   "name": "python3"
  },
  "language_info": {
   "codemirror_mode": {
    "name": "ipython",
    "version": 3
   },
   "file_extension": ".py",
   "mimetype": "text/x-python",
   "name": "python",
   "nbconvert_exporter": "python",
   "pygments_lexer": "ipython3",
   "version": "3.10.9"
  }
 },
 "nbformat": 4,
 "nbformat_minor": 5
}
