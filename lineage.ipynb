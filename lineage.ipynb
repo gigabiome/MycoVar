{
 "cells": [
  {
   "cell_type": "code",
   "execution_count": 1,
   "id": "4459c261",
   "metadata": {},
   "outputs": [],
   "source": [
    "import pandas as pd\n",
    "import os"
   ]
  },
  {
   "cell_type": "code",
   "execution_count": 2,
   "id": "3936f46d",
   "metadata": {},
   "outputs": [],
   "source": [
    "# read in lineages\n",
    "df_lin = pd.read_csv('bin/db/lineages.bed',sep='\\t',index_col=1)\n",
    "DB_LIN = df_lin.drop(columns=['Chromosome','End'])"
   ]
  },
  {
   "cell_type": "code",
   "execution_count": 3,
   "id": "1d10ad85",
   "metadata": {},
   "outputs": [],
   "source": [
    "OUTPUT = 'output/'\n",
    "INPUT = 'input/'"
   ]
  },
  {
   "cell_type": "code",
   "execution_count": null,
   "id": "189a937a",
   "metadata": {},
   "outputs": [],
   "source": [
    "# rename files\n",
    "directory = Path(INPUT)\n",
    "files = [f for f in directory.iterdir() if f.is_file()]\n",
    "for old_path in files:\n",
    "    dir_name = os.path.dirname(old_path)\n",
    "    base_name = os.path.basename(old_path)\n",
    "    if os.path.splitext(base_name)[1] == '.csv':\n",
    "        new_base = base_name.split('_')[0] + '.snp'\n",
    "        new_path = os.path.join(dir_name, new_base)\n",
    "        os.rename(old_path, new_path)\n",
    "    else:\n",
    "        pass"
   ]
  },
  {
   "cell_type": "code",
   "execution_count": 4,
   "id": "ecc6bc08",
   "metadata": {},
   "outputs": [],
   "source": [
    "snp_files = os.listdir(INPUT+'snp/')"
   ]
  },
  {
   "cell_type": "code",
   "execution_count": 5,
   "id": "88d79e9e",
   "metadata": {},
   "outputs": [
    {
     "name": "stdout",
     "output_type": "stream",
     "text": [
      "TC00760619_S1.snp\n",
      "TC00760619_S1.csv\n",
      "TC00856554_S51.snp\n",
      "TC00764189.snp\n",
      "TC00831960_S32.snp\n",
      "TC00855201_S148.snp\n",
      "TC00862935_S189.snp\n",
      "TC00836558_1.snp\n",
      "TC00777418_S47.snp\n",
      "TC00832902_S78.snp\n",
      "TC00780707_S93.snp\n",
      "TC00838386_S26.snp\n"
     ]
    }
   ],
   "source": [
    "ref_dict = dict()\n",
    "snp_dfs = dict()\n",
    "snp_dfs_filtered = dict()\n",
    "\n",
    "for file in snp_files:\n",
    "    print(file)\n",
    "    sample = file.replace('.snp','')\n",
    "    df = pd.read_csv('input/snp/'+file)\n",
    "    snp_dfs[sample] = df"
   ]
  },
  {
   "cell_type": "code",
   "execution_count": 6,
   "id": "d231a1b9",
   "metadata": {},
   "outputs": [],
   "source": [
    "# Variables\n",
    "\n",
    "LIN_FREQ = 20\n",
    "d_lin_name_number = dict(zip(DB_LIN['Lineage_number'],DB_LIN['Lineage_name']))\n",
    "\n",
    "# create a lineage matrix that can later be used for viz if needed\n",
    "lin_mat = pd.DataFrame()\n",
    "for sample in snp_dfs:\n",
    "    df = snp_dfs[sample]\n",
    "    df = df.set_index('Reference Position')\n",
    "    df = df.join(df_lin,rsuffix='_lin')\n",
    "    df = df[(df['Allele'] == df['Allele_lin']) & (df['Reference'] == df['Ref'])]\n",
    "    df = df[df['Frequency'] >= LIN_FREQ]\n",
    "    df = df.groupby('Lineage_number').mean('Fequency')\n",
    "    for i in df.index:\n",
    "        lin_mat.at[i,sample] = df.at[i,'Frequency']\n",
    "        \n",
    "df = lin_mat.reset_index()\n",
    "df = df.rename(columns={'index':'Lineage Number'})\n",
    "df['Lineage Name'] = df['Lineage Number'].map(d_lin_name_number)\n",
    "df = pd.melt(df,id_vars=['Lineage Name','Lineage Number'])\n",
    "df = df[df['value'].notna()]\n",
    "df = df.rename(columns={'variable':'Sample','value':'Frequency'})\n",
    "df = df[['Sample','Lineage Name','Lineage Number','Frequency']]\n",
    "#df.to_excel(OUTPUT+'/lineages.xlsx')"
   ]
  },
  {
   "cell_type": "code",
   "execution_count": null,
   "id": "cb9c712e",
   "metadata": {},
   "outputs": [],
   "source": []
  }
 ],
 "metadata": {
  "kernelspec": {
   "display_name": "Python 3 (ipykernel)",
   "language": "python",
   "name": "python3"
  },
  "language_info": {
   "codemirror_mode": {
    "name": "ipython",
    "version": 3
   },
   "file_extension": ".py",
   "mimetype": "text/x-python",
   "name": "python",
   "nbconvert_exporter": "python",
   "pygments_lexer": "ipython3",
   "version": "3.10.9"
  }
 },
 "nbformat": 4,
 "nbformat_minor": 5
}
