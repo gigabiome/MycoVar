{
 "cells": [
  {
   "cell_type": "code",
   "execution_count": 5,
   "id": "96539106",
   "metadata": {},
   "outputs": [],
   "source": [
    "# import functions and other modules\n",
    "from functions import *\n",
    "import os\n",
    "import pandas as pd\n",
    "import warnings\n",
    "warnings.simplefilter(action='ignore', category=UserWarning)\n",
    "\n",
    "# Global variables for files\n",
    "INPUT = 'input/'\n",
    "OUTPUT = 'output/'\n",
    "BIN = 'bin/'"
   ]
  },
  {
   "cell_type": "markdown",
   "id": "2ae7ba91",
   "metadata": {},
   "source": [
    "# Phylo"
   ]
  },
  {
   "cell_type": "markdown",
   "id": "0b59f91f",
   "metadata": {},
   "source": [
    "This notebook is used to analyse SNP files and perform phylogenetic analysis generating several output files"
   ]
  },
  {
   "cell_type": "markdown",
   "id": "da2c24bb",
   "metadata": {},
   "source": [
    "1. Set global parameters for the run that will be used throughout the script\n",
    "2. Run the setup function to setup the input and output\n",
    "2. Generate output"
   ]
  },
  {
   "cell_type": "code",
   "execution_count": 6,
   "id": "da811afa",
   "metadata": {},
   "outputs": [],
   "source": [
    "# Parameters for snp calling (quality, forward/reverse balance, frequency, coverage)\n",
    "FREQ = 90\n",
    "COV = 10\n",
    "QUAL = 20\n",
    "FRB = 0"
   ]
  },
  {
   "cell_type": "code",
   "execution_count": 8,
   "id": "616322d4",
   "metadata": {},
   "outputs": [
    {
     "name": "stdout",
     "output_type": "stream",
     "text": [
      "✅ Input files successfully renamed and all files valid CSV files\n",
      "\n",
      "✅ Phylo output directories created\n",
      "\n",
      "✅ Databases successfully loaded\n",
      "\n"
     ]
    }
   ],
   "source": [
    "# Setup input\n",
    "setupInput(INPUT)\n",
    "snp_files = os.listdir(INPUT+'snp/')\n",
    "cov_files = os.listdir(INPUT+'cov/')\n",
    "stat_files = os.listdir(INPUT+'stat/')\n",
    "\n",
    "# Setup output. Note: it will clear everything in the resisto output\n",
    "setupOutput(OUTPUT,'phylo')\n",
    "\n",
    "# Parse databases for resistotyping\n",
    "DB_DR,DB_REP_NE,DB_LIN = setupPhylo(BIN)"
   ]
  },
  {
   "cell_type": "code",
   "execution_count": 4,
   "id": "cc95f27c",
   "metadata": {},
   "outputs": [
    {
     "name": "stdout",
     "output_type": "stream",
     "text": [
      "✅ Multiple sequence alignment completed!\n",
      "\n",
      "✅ Phylogenetic tree built!\n",
      "\n"
     ]
    }
   ],
   "source": [
    "# perform resistotyping\n",
    "params = [QUAL,FRB,FREQ,COV,INPUT,OUTPUT,BIN]\n",
    "phylo_list = [DB_DR,DB_REP_NE,DB_LIN]\n",
    "\n",
    "out = mainPhylo(snp_files,params,phylo_list)"
   ]
  },
  {
   "cell_type": "code",
   "execution_count": null,
   "id": "f683f80d",
   "metadata": {},
   "outputs": [],
   "source": []
  },
  {
   "cell_type": "code",
   "execution_count": null,
   "id": "020a2772",
   "metadata": {},
   "outputs": [],
   "source": []
  },
  {
   "cell_type": "code",
   "execution_count": null,
   "id": "9e186491",
   "metadata": {},
   "outputs": [],
   "source": []
  },
  {
   "cell_type": "code",
   "execution_count": null,
   "id": "cd4d02e3",
   "metadata": {},
   "outputs": [],
   "source": []
  },
  {
   "cell_type": "code",
   "execution_count": null,
   "id": "6ee92937",
   "metadata": {},
   "outputs": [],
   "source": []
  },
  {
   "cell_type": "code",
   "execution_count": null,
   "id": "0f3abe1d",
   "metadata": {},
   "outputs": [],
   "source": []
  },
  {
   "cell_type": "code",
   "execution_count": null,
   "id": "69ecb602",
   "metadata": {},
   "outputs": [],
   "source": []
  }
 ],
 "metadata": {
  "kernelspec": {
   "display_name": "Python 3 (ipykernel)",
   "language": "python",
   "name": "python3"
  },
  "language_info": {
   "codemirror_mode": {
    "name": "ipython",
    "version": 3
   },
   "file_extension": ".py",
   "mimetype": "text/x-python",
   "name": "python",
   "nbconvert_exporter": "python",
   "pygments_lexer": "ipython3",
   "version": "3.10.9"
  }
 },
 "nbformat": 4,
 "nbformat_minor": 5
}
